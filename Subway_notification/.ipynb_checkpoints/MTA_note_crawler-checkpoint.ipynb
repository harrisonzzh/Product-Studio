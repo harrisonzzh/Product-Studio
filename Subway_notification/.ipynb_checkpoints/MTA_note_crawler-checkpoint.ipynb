{
 "cells": [
  {
   "cell_type": "code",
   "execution_count": 24,
   "metadata": {
    "collapsed": true
   },
   "outputs": [],
   "source": [
    "import pandas as pd\n",
    "import urllib.request\n",
    "import re\n",
    "import datetime\n",
    "import itertools"
   ]
  },
  {
   "cell_type": "code",
   "execution_count": 9,
   "metadata": {
    "collapsed": true
   },
   "outputs": [],
   "source": [
    "def get_data(ur1):\n",
    "    return str(urllib.request.urlopen(ur1).read())\n",
    "\n",
    "def extract(data):\n",
    "    result = data.split(\"underline\")\n",
    "    result = list(map(lambda x: x.split('</a><br/>')[0] , result))[1:]\n",
    "    return result\n",
    "\n",
    "def drop(data):\n",
    "    data = list(map(lambda x: x.split('<b>')[1] , data))\n",
    "    return data\n",
    "\n",
    "def rep(s):\n",
    "    a= s.replace(\"<IMG src=\\\\'images/\",' ').replace(\".png\\\\' >\",' (LINE) ')\n",
    "    return re.sub('<[^>]+>', '', a)\n",
    "\n",
    "def rep_ls(ls):\n",
    "    return list(map(rep, ls))\n",
    "\n",
    "def drop_ff(ls, string):\n",
    "    return list(map(lambda x: x.replace(string, ''), ls))\n",
    "\n",
    "def clean(url):\n",
    "    data = get_data(url)\n",
    "    data = extract(data)\n",
    "    data = drop(data)\n",
    "    data = rep_ls(data)\n",
    "    data = drop_ff(data,\"F&F_Pos_16 (LINE)\")\n",
    "    data = drop_ff(data,\"&nbsp;\")\n",
    "    data = drop_ff(data,\"\\\\\")\n",
    "    return data"
   ]
  },
  {
   "cell_type": "code",
   "execution_count": 19,
   "metadata": {},
   "outputs": [
    {
     "data": {
      "text/plain": [
       "[' 1 (LINE)  Van Cortlandt Park-bound trains skip 50 St, 59 St and 66 St',\n",
       " ' 3 (LINE)  Service operates between 148 St and New Lots Av, replacing the  4 (LINE)  in Brooklyn',\n",
       " 'No elevator service to/from the DOWNTOWN platform at 51 St  6 (LINE)  Station',\n",
       " 'No elevator service to/from the DOWNTOWN platform at Canal St  6 (LINE)  Station',\n",
       " '   4 (LINE)  No trains between Brooklyn Bridge and New Lots Av 2 (LINE)   3 (LINE)   D (LINE)   J (LINE)   N (LINE)   Q (LINE)  trains provide alternate service',\n",
       " ' 6 (LINE)  Pelham Bay Park-bound trains skip 51, 68, 77, 96, 103, 110 and 116 Sts',\n",
       " ' A (LINE)  Manhattan-bound trains run express from Euclid Av to Hoyt Schermerhorn',\n",
       " ' D (LINE)   N (LINE)   R (LINE)  Prospect Av is closed for renovation',\n",
       " ' D (LINE)  Coney Island-bound trains skip 155 St',\n",
       " ' D (LINE)  Norwood-bound trains run local via the  A (LINE)  from W 4 St to 59 St-Columbus Circle',\n",
       " ' E (LINE)  Trains run local in both directions between Roosevelt Av and 71 Av',\n",
       " ' F (LINE)  Manhattan-bound platforms at Avenue U, Avenue P, Avenue N, Bay Pkwy  and Avenue I are closed for renovation',\n",
       " ' F (LINE)  Trains run local in both directions between Roosevelt Av and 71 Av',\n",
       " ' G (LINE)  No trains between Hoyt-Schermerhorn and Church Av Service operates in two sections A (LINE)   F (LINE)  trains provide alternate service',\n",
       " ' J (LINE)   Z (LINE)  Manhattan-bound platform at 104 St is closed for renovation',\n",
       " ' J (LINE)   Z (LINE)  Manhattan-bound platform at 121 St is closed for renovation',\n",
       " ' M (LINE)  No trains between Myrtle-Wyckoff Av and Myrtle Av (Broadway)',\n",
       " ' M (LINE)  Service ends early between 71 Av and Essex St E (LINE)   F (LINE)   R (LINE)  trains provide alternate service',\n",
       " ' N (LINE)  Coney Island-bound platforms at Fort Hamilton Pkwy, New Utrecht Av, 18 Av, 20 Av Kings Hwy, Avenue U and 86 St are closed for renovation',\n",
       " ' N (LINE)   Q (LINE)  Uptown trains skip Prince, 8, 23 and 28 Sts ',\n",
       " ' R (LINE)  Bay Ridge Av is closed for renovation',\n",
       " ' sir (LINE)  Grant City Station Entrance Closure']"
      ]
     },
     "execution_count": 19,
     "metadata": {},
     "output_type": "execute_result"
    }
   ],
   "source": [
    "get_clean_data('9/27/2017')"
   ]
  },
  {
   "cell_type": "code",
   "execution_count": 10,
   "metadata": {
    "collapsed": true
   },
   "outputs": [],
   "source": [
    "def get_clean_data(data):\n",
    "    url = 'http://travel.mtanyct.info/serviceadvisory/routeStatusResult.aspx?tag=ALL&date='+data+'&time=&method=getstatus4'\n",
    "    return clean(url)"
   ]
  },
  {
   "cell_type": "code",
   "execution_count": 22,
   "metadata": {
    "collapsed": true
   },
   "outputs": [],
   "source": [
    "def get_data_over_period(start, num_of_days):\n",
    "    start_date = datetime.datetime.strptime(start, '%m/%d/20%y')\n",
    "    date_list = [start_date + datetime.timedelta(days=x) for x in range(0, num_of_days)]\n",
    "    dates = list(map(lambda x: x.strftime('%m/%d/20%y'), date_list))\n",
    "    dataset = []\n",
    "    dataset = list(map(get_clean_data, dates))\n",
    "    answer = set(list(list(itertools.chain.from_iterable(dataset))))\n",
    "    return answer"
   ]
  },
  {
   "cell_type": "code",
   "execution_count": 26,
   "metadata": {},
   "outputs": [
    {
     "data": {
      "text/plain": [
       "{'   4 (LINE)  No trains between Brooklyn Bridge and New Lots Av 2 (LINE)   3 (LINE)   D (LINE)   J (LINE)   N (LINE)   Q (LINE)  trains provide alternate service',\n",
       " ' 1 (LINE)  Van Cortlandt Park-bound trains skip 50 St, 59 St and 66 St',\n",
       " ' 2 (LINE)  Wakefield-bound trains run express from 3 Av-149 St to E 180 St 5 (LINE)  Eastchester-bound trains run express from 3 Av-149 St to E 180 St',\n",
       " ' 2 (LINE)  Wakefield-bound trains skip 50 St, 59 St and 66 St',\n",
       " ' 3 (LINE)  Service operates between 148 St and New Lots Av, replacing the  4 (LINE)  in Brooklyn',\n",
       " ' 4 (LINE)  Downtown trains run local from 125 St to Brooklyn Bridge',\n",
       " ' 4 (LINE)  Woodlawn-bound trains run local from Brooklyn Bridge to Grand Central-42 St',\n",
       " ' 4 (LINE)  Woodlawn-bound trains skip 51, 68, 77, 96, 103, 110 and 116 Sts',\n",
       " ' 5 (LINE)  No trains between 241 St and Gun Hill Rd',\n",
       " ' 6 (LINE)  Pelham Bay Park-bound trains skip 51, 68, 77, 96, 103, 110 and 116 Sts',\n",
       " ' 7 (LINE)  Hunters Point Av and Vernon Blvd-Jackson Av - Trains board at the Flushing-bound platform',\n",
       " ' 7 (LINE)  Vernon Blvd-Jackson Av and Hunters Point Av - Trains board at the Manhattan-bound platform',\n",
       " ' A (LINE)  Manhattan-bound trains run express from Euclid Av to Hoyt Schermerhorn',\n",
       " ' A (LINE)  Ozone Park/Far Rockaway-bound trains skip 50 St, 23 St and Spring St',\n",
       " ' A (LINE)  Trains run every 30 minutes between 207 St and 168 St',\n",
       " ' D (LINE)   N (LINE)   R (LINE)  Prospect Av is closed for renovation',\n",
       " ' D (LINE)  Coney Island-bound trains skip 155 St',\n",
       " ' D (LINE)  Coney Island-bound trains skip DeKalb Av, Union St, 4 Av-9 St and 25 St',\n",
       " ' D (LINE)  Norwood-bound trains run local via the  A (LINE)  from W 4 St to 59 St-Columbus Circle',\n",
       " ' D (LINE)  Trains make local stops in both directions at 23 St and 14 St',\n",
       " ' D (LINE)  Trains stop at 135 St in both directions',\n",
       " ' E (LINE)  Manhattan-bound trains run express from 71 Av to 21 St-Queensbridge  F (LINE)  Station',\n",
       " ' E (LINE)  Manhattan-bound trains skip Briarwood and 75 Av',\n",
       " ' E (LINE)  Trains run local in both directions between Roosevelt Av and 71 Av',\n",
       " ' E (LINE)  Trains run via the  F (LINE)  between 21 St-Queensbridge and 34 St-Herald Sq, the last stop A (LINE)   C (LINE)   D (LINE)   F (LINE)   R (LINE)  trains provide alternate service',\n",
       " ' F (LINE)  Coney Island-bound trains skip Sutphin Blvd, Briarwood and 75 Av',\n",
       " ' F (LINE)  Manhattan-bound platforms at Avenue U, Avenue P, Avenue N, Bay Pkwy  and Avenue I are closed for renovation',\n",
       " ' F (LINE)  Trains are rerouted in both directions in Manhattan D (LINE)   E (LINE)   J (LINE)  trains provide alternate service',\n",
       " ' F (LINE)  Trains run local in both directions between Roosevelt Av and 21 St-Queensbridge',\n",
       " ' F (LINE)  Trains run local in both directions between Roosevelt Av and 71 Av',\n",
       " ' G (LINE)  No trains between Hoyt-Schermerhorn and Church Av Service operates in two sections A (LINE)   F (LINE)  trains provide alternate service',\n",
       " ' J (LINE)   Z (LINE)  Manhattan-bound platform at 104 St is closed for renovation',\n",
       " ' J (LINE)   Z (LINE)  Manhattan-bound platform at 121 St is closed for renovation',\n",
       " ' J (LINE)  Broad St-bound trains skip Flushing Av, Lorimer St and Hewes St M (LINE)  Forest Hills-bound trains skip Flushing Av, Lorimer St and Hewes St',\n",
       " ' J (LINE)  No trains between Chambers St and Broad St',\n",
       " ' M (LINE)  No trains between Myrtle-Wyckoff Av and Myrtle Av (Broadway)',\n",
       " ' M (LINE)  Service ends early between 71 Av and Essex St E (LINE)   F (LINE)   R (LINE)  trains provide alternate service',\n",
       " ' N (LINE)   Q (LINE)  Uptown trains skip Prince, 8, 23 and 28 Sts ',\n",
       " ' N (LINE)  Astoria-bound trains skip Prince, 8, 23, 28 and 49 Sts',\n",
       " ' N (LINE)  Coney Island-bound platforms at Fort Hamilton Pkwy, New Utrecht Av, 18 Av, 20 Av Kings Hwy, Avenue U and 86 St are closed for renovation',\n",
       " ' N (LINE)  Coney Island-bound trains skip 30 Av, Broadway, 36 Av and 39 Av',\n",
       " ' Q (LINE)  96 St-bound trains skip Prince, 8, 23, 28 and 49 Sts',\n",
       " ' Q (LINE)  Coney Island-bound trains run via the  R (LINE)  from 57 St-7 Av to DeKalb Av',\n",
       " ' R (LINE)  Bay Ridge Av is closed for renovation',\n",
       " ' R (LINE)  No trains between 36 St, Brooklyn and 95 St No late night service',\n",
       " ' sir (LINE)  Grant City Station Entrance Closure',\n",
       " \" sir (LINE)  Trains board at the Tottenville-bound platform from Arthur Kill to Prince's Bay Stations\",\n",
       " 'No elevator service to/from the DOWNTOWN platform at 51 St  6 (LINE)  Station',\n",
       " 'No elevator service to/from the DOWNTOWN platform at Canal St  6 (LINE)  Station',\n",
       " 'No elevator service to/from the Flushing-bound platform at 61 St-Woodside  7 (LINE)  Station',\n",
       " 'Station'}"
      ]
     },
     "execution_count": 26,
     "metadata": {},
     "output_type": "execute_result"
    }
   ],
   "source": [
    "get_data_over_period('9/27/2017', 3)"
   ]
  },
  {
   "cell_type": "code",
   "execution_count": null,
   "metadata": {
    "collapsed": true
   },
   "outputs": [],
   "source": []
  }
 ],
 "metadata": {
  "kernelspec": {
   "display_name": "Python 3",
   "language": "python",
   "name": "python3"
  },
  "language_info": {
   "codemirror_mode": {
    "name": "ipython",
    "version": 3
   },
   "file_extension": ".py",
   "mimetype": "text/x-python",
   "name": "python",
   "nbconvert_exporter": "python",
   "pygments_lexer": "ipython3",
   "version": "3.6.1"
  }
 },
 "nbformat": 4,
 "nbformat_minor": 2
}
