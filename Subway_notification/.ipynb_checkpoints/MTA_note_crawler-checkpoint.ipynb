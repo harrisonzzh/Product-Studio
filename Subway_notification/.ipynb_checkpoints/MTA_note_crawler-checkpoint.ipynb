{
 "cells": [
  {
   "cell_type": "code",
   "execution_count": 1,
   "metadata": {
    "collapsed": true
   },
   "outputs": [],
   "source": [
    "import pandas as pd\n",
    "import urllib.request\n",
    "import re\n",
    "import datetime\n",
    "import itertools"
   ]
  },
  {
   "cell_type": "code",
   "execution_count": 2,
   "metadata": {
    "collapsed": true
   },
   "outputs": [],
   "source": [
    "def get_data(ur1):\n",
    "    return str(urllib.request.urlopen(ur1).read())\n",
    "\n",
    "def extract(data):\n",
    "    result = data.split(\"underline\")\n",
    "    result = list(map(lambda x: x.split('</a><br/>')[0] , result))[1:]\n",
    "    return result\n",
    "\n",
    "def drop(data):\n",
    "    data = list(map(lambda x: x.split('<b>')[1] , data))\n",
    "    return data\n",
    "\n",
    "def rep(s):\n",
    "    a= s.replace(\"<IMG src=\\\\'images/\",'').replace(\".png\\\\' >\",'_LINE')\n",
    "    return re.sub('<[^>]+>', '', a)\n",
    "\n",
    "def rep_ls(ls):\n",
    "    return list(map(rep, ls))\n",
    "\n",
    "def drop_ff(ls, string):\n",
    "    return list(map(lambda x: x.replace(string, ''), ls))\n",
    "\n",
    "def clean(url):\n",
    "    data = get_data(url)\n",
    "    data = extract(data)\n",
    "    data = drop(data)\n",
    "    data = rep_ls(data)\n",
    "    data = drop_ff(data,\"F&F_Pos_16 (LINE)\")\n",
    "    data = drop_ff(data,\"&nbsp;\")\n",
    "    data = drop_ff(data,\"\\\\\")\n",
    "    return data"
   ]
  },
  {
   "cell_type": "code",
   "execution_count": 3,
   "metadata": {
    "collapsed": true
   },
   "outputs": [],
   "source": [
    "def get_clean_data(data):\n",
    "    url = 'http://travel.mtanyct.info/serviceadvisory/routeStatusResult.aspx?tag=ALL&date='+data+'&time=&method=getstatus4'\n",
    "    return clean(url)"
   ]
  },
  {
   "cell_type": "code",
   "execution_count": 8,
   "metadata": {},
   "outputs": [
    {
     "data": {
      "text/plain": [
       "['2_LINE trains replace weekend 5_LINE service between Dyre Av and E 180 St',\n",
       " 'Weekend 2_LINE 3_LINE station closures and route changes',\n",
       " 'No elevator service to/from the DOWNTOWN platform at 51 St 6_LINE Station',\n",
       " 'No elevator service to/from the DOWNTOWN platform at Canal St 6_LINE Station',\n",
       " '4_LINE Woodlawn-bound trains skip 161 St, 167 St, 170 St, Mt Eden Av and 176 St',\n",
       " '4_LINE Service operates every 16 minutes between 125 St and Woodlawn',\n",
       " '4_LINE No trains between Utica Av and New Lots Av',\n",
       " 'Station',\n",
       " '6_LINE Brooklyn Bridge-bound trains run express from Parkchester to Hunts Point Av',\n",
       " 'No elevator service to/from the Flushing-bound platform at 61 St-Woodside 7_LINE Station',\n",
       " 'A_LINE Inwood-bound trains skip Kingston-Throop, Franklin, Clinton-Washington and Lafayette Avs',\n",
       " 'A_LINE Inwood-bound trains make local stops at Shepherd Av, Van Siclen Av and Liberty Av',\n",
       " 'C_LINE 168 St-bound trains skip Kingston-Throop, Franklin, Clinton-Washington and Lafayette Avs',\n",
       " 'D_LINE N_LINE R_LINE Prospect Av is closed for renovation',\n",
       " 'D_LINE Manhattan-bound trains skip 182-183 Sts',\n",
       " 'D_LINE Service is rerouted in Manhattan and Brooklyn',\n",
       " 'Station',\n",
       " 'E_LINE Jamaica Center-bound trains skip 75 Av and Briarwood',\n",
       " 'F_LINE Manhattan-bound platforms at Avenue U, Avenue P, Avenue N, Bay Pkwy  and Avenue I are closed for renovation',\n",
       " 'F_LINE Jamaica-bound trains skip 75 Av, Briarwood and Sutphin Blvd',\n",
       " 'F_LINE Service is rerouted in Manhattan and Brooklyn',\n",
       " 'Station',\n",
       " 'F_LINE Manhattan-bound trains skip 25 St, 4 Av-9 St and Union St D_LINE Stations',\n",
       " 'J_LINE Z_LINE Manhattan-bound platform at 121 St is closed for renovation',\n",
       " 'J_LINE Z_LINE Manhattan-bound platform at 104 St is closed for renovation',\n",
       " 'M_LINE No trains between Myrtle-Wyckoff Av and Myrtle Av (Broadway)',\n",
       " 'M_LINE Service is extended to the Chambers St J_LINE Station',\n",
       " 'N_LINE Coney Island-bound platforms at Fort Hamilton Pkwy, New Utrecht Av, 18 Av, 20 Av, Kings Hwy, Avenue U and 86 St are closed for renovation',\n",
       " 'N_LINE Coney Island-bound trains skip 30 Av, Broadway, 36 Av and 39 Av',\n",
       " 'N_LINE Trains run via the R_LINE in both directions between Atlantic Av-Barclays Ctr and Canal St',\n",
       " 'N_LINE Astoria-bound trains run express from 59 St, Brooklyn to Atlantic Av-Barclays Ctr',\n",
       " 'N_LINE Coney Island-bound trains make local stops at Union St, 4 Av-9 St, 25, 45 and 53 Sts',\n",
       " 'R_LINE Service restored at Bay Ridge Av',\n",
       " 'R_LINE Forest Hills-bound trains skip 36 St, Steinway St, 46 St, Northern Blvd and 65 St',\n",
       " 'R_LINE Forest Hills-bound trains skip Elmhurst, Grand Avs, Woodhaven Blvd, 63 Dr and 67 Av',\n",
       " 'R_LINE Manhattan-bound trains run express from 59 St, Brooklyn to Atlantic Av-Barclays Ctr',\n",
       " 'sir_LINE Grant City Station Entrance Closure']"
      ]
     },
     "execution_count": 8,
     "metadata": {},
     "output_type": "execute_result"
    }
   ],
   "source": [
    "get_clean_data('10/15/2017')"
   ]
  },
  {
   "cell_type": "code",
   "execution_count": 6,
   "metadata": {
    "collapsed": true
   },
   "outputs": [],
   "source": [
    "def get_data_over_period(start, num_of_days):\n",
    "    start_date = datetime.datetime.strptime(start, '%m/%d/20%y')\n",
    "    date_list = [start_date + datetime.timedelta(days=x) for x in range(0, num_of_days)]\n",
    "    dates = list(map(lambda x: x.strftime('%m/%d/20%y'), date_list))\n",
    "    dataset = []\n",
    "    dataset = list(map(get_clean_data, dates))\n",
    "    answer = set(list(list(itertools.chain.from_iterable(dataset))))\n",
    "    return answer"
   ]
  },
  {
   "cell_type": "code",
   "execution_count": 7,
   "metadata": {},
   "outputs": [
    {
     "data": {
      "text/plain": [
       "{'148 St and ',\n",
       " '2_LINE trains replace weekend 5_LINE service between Dyre Av and E 180 St',\n",
       " '4_LINE All trains from Junius St to Sutter Av-Rutland Rd board at the New Lots Av-bound platform',\n",
       " '4_LINE No trains between Utica Av and New Lots Av',\n",
       " '4_LINE Trains replace the 3_LINE between Atlantic Av-Barclays Ctr and New Lots Av',\n",
       " '5_LINE Trains replace the 2_LINE in the Bronx and Brooklyn2_LINE Trains replace the 5_LINE in the Bronx',\n",
       " '7_LINE Vernon Blvd-Jackson Av and Hunters Point Av - Trains board at the Manhattan-bound platform',\n",
       " 'A_LINE Inwood-bound trains skip Kingston-Throop, Franklin, Clinton-Washington and Lafayette Avs',\n",
       " 'A_LINE Manhattan-bound trains skip Kingston-Throop, Franklin, Clinton-Washington and Lafayette Avs',\n",
       " 'A_LINE Trains run every 30 minutes between 207 St and 168 St',\n",
       " 'B_LINE 145 St-bound trains run local from Sheepshead Bay to Prospect Park',\n",
       " 'D_LINE Coney Island-bound trains run local from 125 St to 59 St-Columbus Circle',\n",
       " 'D_LINE Coney Island-bound trains skip Union St, 4 Av-9 St and 25 St',\n",
       " 'D_LINE Manhattan-bound trains skip 182-183 Sts',\n",
       " 'D_LINE N_LINE R_LINE Prospect Av is closed for renovation',\n",
       " 'D_LINE No trains between 205 St and Bedford Park Blvd ',\n",
       " 'D_LINE Norwood-bound trains run via the N_LINE from Stillwell Av to 36 St',\n",
       " 'D_LINE Service is rerouted in Manhattan and Brooklyn',\n",
       " 'E_LINE Jamaica Center-bound trains skip 36 St, Steinway St, 46 St, Northern Blvd and 65 St',\n",
       " 'E_LINE Jamaica Center-bound trains skip 75 Av and Briarwood',\n",
       " 'E_LINE Jamaica Center-bound trains skip Elmhurst, Grand Avs, Woodhaven Blvd, 63 Dr and 67 Av',\n",
       " 'E_LINE World Trade Center-bound trains run local from 71 Av to Roosevelt Av',\n",
       " 'F_LINE Coney Island-bound trains run local from 71 Av to Roosevelt Av',\n",
       " 'F_LINE Jamaica-bound trains are rerouted via the E_LINE after 47-50 Sts to Roosevelt Av',\n",
       " 'F_LINE Jamaica-bound trains skip 75 Av, Briarwood and Sutphin Blvd',\n",
       " 'F_LINE Manhattan-bound platforms at Avenue U, Avenue P, Avenue N, Bay Pkwy  and Avenue I are closed for renovation',\n",
       " 'F_LINE Manhattan-bound trains skip 25 St, 4 Av-9 St and Union St D_LINE Stations',\n",
       " 'F_LINE Service is rerouted in Manhattan and Brooklyn',\n",
       " 'J_LINE Z_LINE Manhattan-bound platform at 104 St is closed for renovation',\n",
       " 'J_LINE Z_LINE Manhattan-bound platform at 121 St is closed for renovation',\n",
       " 'L_LINE Service operates every 12 minutes between Myrtle-Wyckoff Avs and Rockaway Pkwy',\n",
       " 'M_LINE No trains between Myrtle-Wyckoff Av and Myrtle Av (Broadway)',\n",
       " 'M_LINE Service ends early between 71 Av and Essex StE_LINE F_LINE R_LINE trains provide alternate service',\n",
       " 'M_LINE Shuttle trains run every 20 minutes between Metropolitan Av and Myrtle-Wyckoff Avs',\n",
       " 'N_LINE Astoria-bound trains run express from 59 St, Brooklyn to Atlantic Av-Barclays Ctr',\n",
       " 'N_LINE Astoria-bound trains skip 39 Av, 36 Av, Broadway and 30 Av',\n",
       " 'N_LINE Coney Island-bound platforms at Fort Hamilton Pkwy, New Utrecht Av, 18 Av, 20 Av, Kings Hwy, Avenue U and 86 St are closed for renovation',\n",
       " 'N_LINE Coney Island-bound trains make local stops at Union St, 4 Av-9 St, 25, 45 and 53 Sts',\n",
       " 'N_LINE Coney Island-bound trains run express from Atlantic Av-Barclays Ctr to 59 St, Brooklyn',\n",
       " 'N_LINE Coney Island-bound trains skip 30 Av, Broadway, 36 Av and 39 Av',\n",
       " 'N_LINE W_LINE 30 Av and 36 Av Station Information',\n",
       " 'No elevator service to/from the DOWNTOWN platform at 51 St 6_LINE Station',\n",
       " 'No elevator service to/from the DOWNTOWN platform at Canal St 6_LINE Station',\n",
       " 'No elevator service to/from the Flushing-bound platform at 61 St-Woodside 7_LINE Station',\n",
       " 'Q_LINE Coney Island-bound trains run express from Prospect Park to Sheepshead Bay',\n",
       " 'R_LINE Bay Ridge-bound trains run express from Atlantic Av-Barclays Ctr to 59 St, Brooklyn ',\n",
       " 'R_LINE Forest Hills-bound trains skip 36 St, Steinway St, 46 St, Northern Blvd and 65 St',\n",
       " 'R_LINE Forest Hills-bound trains skip Elmhurst, Grand Avs, Woodhaven Blvd, 63 Dr and 67 Av',\n",
       " 'R_LINE Manhattan-bound trains run express from 59 St, Brooklyn to Atlantic Av-Barclays Ctr',\n",
       " 'R_LINE Service restored at Bay Ridge Av',\n",
       " 'S_LINE 42 Street Shuttle service operates overnight',\n",
       " 'Station',\n",
       " 'W_LINE No trains between 57 St-7 Av and Ditmars Blvd - Take the N_LINE insteadW_LINE trains run every 20 minutes in Manhattan',\n",
       " 'Weekend 2_LINE 3_LINE station closures and route changes',\n",
       " \"fastrack.png' alt=Fastrack service change >1_LINE No trains between 34 St-Penn Station and South Ferry2_LINE No trains between 34 St-Penn Station and Flatbush Av3_LINE No trains running\",\n",
       " 'sir_LINE Grant City Station Entrance Closure',\n",
       " \"sir_LINE Trains board at the St. George-bound platform from Prince's Bay to Arthur Kill Stations\"}"
      ]
     },
     "execution_count": 7,
     "metadata": {},
     "output_type": "execute_result"
    }
   ],
   "source": [
    "get_data_over_period('10/16/2017', 2)"
   ]
  },
  {
   "cell_type": "code",
   "execution_count": null,
   "metadata": {
    "collapsed": true
   },
   "outputs": [],
   "source": []
  }
 ],
 "metadata": {
  "kernelspec": {
   "display_name": "Python 3",
   "language": "python",
   "name": "python3"
  },
  "language_info": {
   "codemirror_mode": {
    "name": "ipython",
    "version": 3
   },
   "file_extension": ".py",
   "mimetype": "text/x-python",
   "name": "python",
   "nbconvert_exporter": "python",
   "pygments_lexer": "ipython3",
   "version": "3.6.1"
  }
 },
 "nbformat": 4,
 "nbformat_minor": 2
}
